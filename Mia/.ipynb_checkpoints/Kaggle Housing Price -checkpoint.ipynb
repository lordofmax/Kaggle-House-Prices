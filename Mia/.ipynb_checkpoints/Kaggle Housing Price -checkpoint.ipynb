{
 "cells": [
  {
   "cell_type": "markdown",
   "metadata": {},
   "source": [
    "<p><a name=\"sections\"></a></p>\n",
    "\n",
    "\n",
    "# Kaggle Housing Price Sections\n",
    "\n",
    "- <a href=\"#DS\">Data Cleaning</a><br>\n",
    "- <a href=\"#DM\">Data Manipulation</a><br>\n",
    "- <a href=\"#miss\">Handling Missing Data</a><br>\n",
    "- <a href=\"#grouping\">Grouping and aggregration</a><br>\n",
    "- <a href=\"#time\">Time Series</a><br>\n",
    "- <a href=\"#sol\">Solutions</a><br>"
   ]
  },
  {
   "cell_type": "code",
   "execution_count": null,
   "metadata": {},
   "outputs": [],
   "source": [
    "import numpy as np\n",
    "import pandas as pd"
   ]
  },
  {
   "cell_type": "markdown",
   "metadata": {},
   "source": [
    "<p><a name=\"DC\"></a></p>\n",
    "\n",
    "# Data Cleaning"
   ]
  },
  {
   "cell_type": "code",
   "execution_count": null,
   "metadata": {},
   "outputs": [],
   "source": [
    "df_raw = pd.read_csv('train.csv',index_col=0)\n",
    "df_raw.head()"
   ]
  },
  {
   "cell_type": "code",
   "execution_count": null,
   "metadata": {},
   "outputs": [],
   "source": [
    "df_raw.dtypes"
   ]
  },
  {
   "cell_type": "markdown",
   "metadata": {},
   "source": [
    "## Missing Values"
   ]
  },
  {
   "cell_type": "code",
   "execution_count": null,
   "metadata": {},
   "outputs": [],
   "source": [
    "df_clean = df_raw.copy()\n",
    "np.sum(df_clean.isnull())"
   ]
  },
  {
   "cell_type": "code",
   "execution_count": null,
   "metadata": {},
   "outputs": [],
   "source": [
    "df_clean.columns[df_clean.isnull().any()]"
   ]
  },
  {
   "cell_type": "code",
   "execution_count": null,
   "metadata": {},
   "outputs": [],
   "source": [
    "# 259 LotFrontage  - replace missing value with 0 \n",
    "df_clean.LotFrontage = df_clean.LotFrontage.fillna(0)\n",
    "\n",
    "# 1369 Alley - replace with None\n",
    "df_clean.Alley = df_clean.Alley.fillna('None')\n",
    "\n",
    "# 8 MasVnrType and MasVnrArea - replace MasVnrType with None and MasVnrArea with 0\n",
    "df_clean.MasVnrType = df_clean.MasVnrType.fillna('None')\n",
    "df_clean.MasVnrArea = df_clean.MasVnrArea.fillna(0)\n",
    "\n",
    "# 37 basement: BsmtQual, BsmtCond, BsmtExposure, BsmtFinType1, BsmtFinType2- replace with Nb\n",
    "df_clean.BsmtQual = df_clean.BsmtQual.fillna('Nb')\n",
    "df_clean.BsmtCond = df_clean.BsmtCond.fillna('Nb')\n",
    "df_clean.BsmtExposure = df_clean.BsmtExposure.fillna('Nb')\n",
    "df_clean.BsmtFinType1 = df_clean.BsmtFinType1.fillna('Nb')\n",
    "df_clean.BsmtFinType2 = df_clean.BsmtFinType2.fillna('Nb')\n",
    "\n",
    "# 690 FireplaceQu - replace with Nf\n",
    "df_clean.FireplaceQu = df_clean.FireplaceQu.fillna('Nf')\n",
    "\n",
    "# 81 Garage: GarageType, GarageYrBlt, GarageFinish, GarageQual, GarageCond - replace with Ng and year with 0 \n",
    "# GarageYrBlt ???\n",
    "df_clean.GarageType = df_clean.GarageType.fillna('Ng')\n",
    "df_clean.GarageFinish = df_clean.GarageFinish.fillna('Ng')\n",
    "df_clean.GarageQual = df_clean.GarageQual.fillna('Ng')\n",
    "df_clean.GarageCond = df_clean.GarageCond.fillna('Ng')\n",
    "df_clean.GarageYrBlt = df_clean.GarageYrBlt.fillna(0)\n",
    "\n",
    "# 1453 PoolQC - replace with Np\n",
    "df_clean.PoolQC = df_clean.PoolQC.fillna('Np')\n",
    "\n",
    "# 1179 Fence - replace with Nf\n",
    "df_clean.Fence = df_clean.Fence.fillna('Nf')\n",
    "\n",
    "# 1406 MiscFeature - replave with None    \n",
    "df_clean.MiscFeature = df_clean.MiscFeature.fillna('None')\n",
    "\n",
    "# 1 Electrical\n",
    "df_clean = df_clean[pd.notnull(df_clean.Electrical)]"
   ]
  },
  {
   "cell_type": "code",
   "execution_count": null,
   "metadata": {},
   "outputs": [],
   "source": [
    "np.sum(df_clean.isnull())"
   ]
  },
  {
   "cell_type": "markdown",
   "metadata": {},
   "source": [
    "## Categorical Feature Dummification"
   ]
  },
  {
   "cell_type": "code",
   "execution_count": null,
   "metadata": {},
   "outputs": [],
   "source": [
    "df_clean.sample(10)"
   ]
  }
 ],
 "metadata": {
  "kernelspec": {
   "display_name": "Python 3",
   "language": "python",
   "name": "python3"
  },
  "language_info": {
   "codemirror_mode": {
    "name": "ipython",
    "version": 3
   },
   "file_extension": ".py",
   "mimetype": "text/x-python",
   "name": "python",
   "nbconvert_exporter": "python",
   "pygments_lexer": "ipython3",
   "version": "3.7.3"
  }
 },
 "nbformat": 4,
 "nbformat_minor": 2
}
